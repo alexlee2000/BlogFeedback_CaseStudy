{
 "cells": [
  {
   "cell_type": "markdown",
   "metadata": {},
   "source": [
    "# BlogFeedback Pre-Processing + Initial EDA"
   ]
  },
  {
   "cell_type": "markdown",
   "metadata": {},
   "source": [
    "### 1. Importing Dependencies"
   ]
  },
  {
   "cell_type": "code",
   "execution_count": 127,
   "metadata": {},
   "outputs": [],
   "source": [
    "import pandas as pd\n",
    "import matplotlib.pyplot as plt\n",
    "import numpy as np"
   ]
  },
  {
   "cell_type": "markdown",
   "metadata": {},
   "source": [
    "### 2. Extract Data"
   ]
  },
  {
   "cell_type": "code",
   "execution_count": 128,
   "metadata": {},
   "outputs": [
    {
     "name": "stdout",
     "output_type": "stream",
     "text": [
      "Shape is: (52397, 281)\n"
     ]
    }
   ],
   "source": [
    "df = pd.read_csv(\"/Users/lexy/Desktop/BlogFeedback/bf_data/blogData_train.csv\", header = None, names = list(range(1,282)))\n",
    "print(\"Shape is:\", df.shape)\n",
    "#display(df.head())"
   ]
  },
  {
   "cell_type": "markdown",
   "metadata": {},
   "source": [
    "#### 2.1. Preprocessing"
   ]
  },
  {
   "cell_type": "code",
   "execution_count": 129,
   "metadata": {},
   "outputs": [],
   "source": [
    "# Renaming columns for ease of understanding and handling\n",
    "\n",
    "df_path = \"/Users/lexy/Desktop/BlogFeedback/bf_data/blogData_train.csv\"\n",
    "\n",
    "# Aggregate Stats \n",
    "stat_col_list = []\n",
    "for i in range(51,61,1):\n",
    "    stat_col_list.append('mean' + '_' + str(i))\n",
    "    stat_col_list.append('sd' + '_' + str(i))\n",
    "    stat_col_list.append('min' + '_' + str(i))\n",
    "    stat_col_list.append('max' + '_' + str(i))\n",
    "    stat_col_list.append('median' + '_' + str(i))\n",
    "df_stats = pd.read_csv(df_path, header = None, names = stat_col_list, usecols = list(range(0,50,1)))\n",
    "\n",
    "# Number of comments\n",
    "num_comments_col_list = ['num_comments_51', 'num_comments_52', 'num_comments_53', 'num_comments_54', 'num_comments_55']\n",
    "df_num_comments = pd.read_csv(df_path, header = None, names = num_comments_col_list, usecols = list(range(50,55,1)))\n",
    "\n",
    "# Number of trackbacks\n",
    "num_trackbacks_col_list = ['num_trackbacks_56', 'num_trackbacks_57', 'num_trackbacks_58', 'num_trackbacks_59', 'num_trackbacks_60']\n",
    "df_num_trackbacks = pd.read_csv(df_path, header = None, names = num_trackbacks_col_list, usecols = list(range(55,60,1)))\n",
    "\n",
    "# Time post was published for (61)\n",
    "df_time_col_list = ['time_TBTP']\n",
    "df_time = pd.read_csv(df_path, header = None, names = df_time_col_list, usecols = list(range(60,61)))\n",
    "\n",
    "# Length of post (62)\n",
    "df_length_col_list = ['length_post']\n",
    "df_length = pd.read_csv(df_path, header = None, names = df_length_col_list, usecols = list(range(61,62)))\n",
    "\n",
    "# bag of words cols (63 to 262)\n",
    "df_bow_col_list = []\n",
    "for i in range(63,263,1):\n",
    "    df_bow_col_list.append('bow_' + str(i))\n",
    "df_bow = pd.read_csv(df_path, header = None, names = df_bow_col_list, usecols = list(range(62,262,1)))\n",
    "\n",
    "# day of week of basetime\n",
    "df_dow_TB_col_list = ['Mon_TB', 'Tue_TB', 'Wed_TB', 'Thu_TB', 'Fri_TB', 'Sat_TB', 'Sun_TB']\n",
    "df_dow_TB = pd.read_csv(df_path, header = None, names = df_dow_TB_col_list, usecols = list(range(262,269, 1)))\n",
    "\n",
    "# day of week of post \n",
    "df_dow_TP_col_list = ['Mon_TP', 'Tue_TP', 'Wed_TP', 'Thu_TP', 'Fri_TP', 'Sat_TP', 'Sun_TP']\n",
    "df_dow_TP = pd.read_csv(df_path, header = None, names = df_dow_TP_col_list, usecols = list(range(269,276, 1)))\n",
    "\n",
    "# parent pages\n",
    "df_parent_page_col_list = ['num_parent']\n",
    "df_parent = pd.read_csv(df_path, header = None, names = df_parent_page_col_list, usecols = list(range(276,277)))\n",
    "\n",
    "# Aggregate Stats Ps\n",
    "stat_col_list2 = ['min_num_comments_P', 'max_num_comments_P', 'mean_num_comments_P']\n",
    "df_stats2 = pd.read_csv(df_path, header = None, names = stat_col_list2, usecols = list(range(277,280, 1)))\n",
    "\n",
    "# Target (num comments in 24 hours after TB)\n",
    "target_col_list = ['num_comments_next_24_TB']\n",
    "df_target = pd.read_csv(df_path, header = None, names = target_col_list, usecols = list(range(280,281)))"
   ]
  },
  {
   "cell_type": "code",
   "execution_count": 130,
   "metadata": {},
   "outputs": [],
   "source": [
    "# Merging back into 1 df\n",
    "merged_df = df_stats.merge(df_num_comments, left_index = True, right_index = True)\n",
    "merged_df = merged_df.merge(df_num_trackbacks, left_index = True, right_index = True)\n",
    "merged_df = merged_df.merge(df_time, left_index = True, right_index = True)\n",
    "merged_df = merged_df.merge(df_length, left_index = True, right_index = True)\n",
    "merged_df = merged_df.merge(df_bow, left_index = True, right_index = True)\n",
    "merged_df = merged_df.merge(df_dow_TB, left_index = True, right_index = True)\n",
    "merged_df = merged_df.merge(df_dow_TP, left_index = True, right_index = True)\n",
    "merged_df = merged_df.merge(df_parent, left_index = True, right_index = True)\n",
    "merged_df = merged_df.merge(df_stats2, left_index = True, right_index = True)\n",
    "merged_df = merged_df.merge(df_target, left_index = True, right_index = True)\n",
    "\n",
    "merged_df['dow_P'] = ''\n",
    "merged_df['dow_P'] = np.where(merged_df.Mon_TP == 1, 'Mon_P', merged_df.dow_P)\n",
    "merged_df['dow_P'] = np.where(merged_df.Tue_TP == 1, 'Tue_P', merged_df.dow_P)\n",
    "merged_df['dow_P'] = np.where(merged_df.Wed_TP == 1, 'Wed_P', merged_df.dow_P)\n",
    "merged_df['dow_P'] = np.where(merged_df.Thu_TP == 1, 'Thu_P', merged_df.dow_P)\n",
    "merged_df['dow_P'] = np.where(merged_df.Fri_TP == 1, 'Fri_P', merged_df.dow_P)\n",
    "merged_df['dow_P'] = np.where(merged_df.Sat_TP == 1, 'Sat_P', merged_df.dow_P)\n",
    "merged_df['dow_P'] = np.where(merged_df.Sun_TP == 1, 'Sun_P', merged_df.dow_P)"
   ]
  },
  {
   "cell_type": "code",
   "execution_count": 131,
   "metadata": {},
   "outputs": [
    {
     "data": {
      "text/html": [
       "<div>\n",
       "<style scoped>\n",
       "    .dataframe tbody tr th:only-of-type {\n",
       "        vertical-align: middle;\n",
       "    }\n",
       "\n",
       "    .dataframe tbody tr th {\n",
       "        vertical-align: top;\n",
       "    }\n",
       "\n",
       "    .dataframe thead th {\n",
       "        text-align: right;\n",
       "    }\n",
       "</style>\n",
       "<table border=\"1\" class=\"dataframe\">\n",
       "  <thead>\n",
       "    <tr style=\"text-align: right;\">\n",
       "      <th></th>\n",
       "      <th>mean_51</th>\n",
       "      <th>sd_51</th>\n",
       "      <th>min_51</th>\n",
       "      <th>max_51</th>\n",
       "      <th>median_51</th>\n",
       "      <th>mean_52</th>\n",
       "      <th>sd_52</th>\n",
       "      <th>min_52</th>\n",
       "      <th>max_52</th>\n",
       "      <th>median_52</th>\n",
       "      <th>...</th>\n",
       "      <th>Thu_TP</th>\n",
       "      <th>Fri_TP</th>\n",
       "      <th>Sat_TP</th>\n",
       "      <th>Sun_TP</th>\n",
       "      <th>num_parent</th>\n",
       "      <th>min_num_comments_P</th>\n",
       "      <th>max_num_comments_P</th>\n",
       "      <th>mean_num_comments_P</th>\n",
       "      <th>num_comments_next_24_TB</th>\n",
       "      <th>dow_P</th>\n",
       "    </tr>\n",
       "  </thead>\n",
       "  <tbody>\n",
       "    <tr>\n",
       "      <th>0</th>\n",
       "      <td>40.30467</td>\n",
       "      <td>53.845657</td>\n",
       "      <td>0.0</td>\n",
       "      <td>401.0</td>\n",
       "      <td>15.0</td>\n",
       "      <td>15.52416</td>\n",
       "      <td>32.44188</td>\n",
       "      <td>0.0</td>\n",
       "      <td>377.0</td>\n",
       "      <td>3.0</td>\n",
       "      <td>...</td>\n",
       "      <td>1.0</td>\n",
       "      <td>0.0</td>\n",
       "      <td>0.0</td>\n",
       "      <td>0.0</td>\n",
       "      <td>0.0</td>\n",
       "      <td>0.0</td>\n",
       "      <td>0.0</td>\n",
       "      <td>0.0</td>\n",
       "      <td>1.0</td>\n",
       "      <td>Thu_P</td>\n",
       "    </tr>\n",
       "    <tr>\n",
       "      <th>1</th>\n",
       "      <td>40.30467</td>\n",
       "      <td>53.845657</td>\n",
       "      <td>0.0</td>\n",
       "      <td>401.0</td>\n",
       "      <td>15.0</td>\n",
       "      <td>15.52416</td>\n",
       "      <td>32.44188</td>\n",
       "      <td>0.0</td>\n",
       "      <td>377.0</td>\n",
       "      <td>3.0</td>\n",
       "      <td>...</td>\n",
       "      <td>0.0</td>\n",
       "      <td>0.0</td>\n",
       "      <td>0.0</td>\n",
       "      <td>0.0</td>\n",
       "      <td>0.0</td>\n",
       "      <td>0.0</td>\n",
       "      <td>0.0</td>\n",
       "      <td>0.0</td>\n",
       "      <td>0.0</td>\n",
       "      <td>Wed_P</td>\n",
       "    </tr>\n",
       "    <tr>\n",
       "      <th>2</th>\n",
       "      <td>40.30467</td>\n",
       "      <td>53.845657</td>\n",
       "      <td>0.0</td>\n",
       "      <td>401.0</td>\n",
       "      <td>15.0</td>\n",
       "      <td>15.52416</td>\n",
       "      <td>32.44188</td>\n",
       "      <td>0.0</td>\n",
       "      <td>377.0</td>\n",
       "      <td>3.0</td>\n",
       "      <td>...</td>\n",
       "      <td>0.0</td>\n",
       "      <td>0.0</td>\n",
       "      <td>0.0</td>\n",
       "      <td>0.0</td>\n",
       "      <td>0.0</td>\n",
       "      <td>0.0</td>\n",
       "      <td>0.0</td>\n",
       "      <td>0.0</td>\n",
       "      <td>0.0</td>\n",
       "      <td>Wed_P</td>\n",
       "    </tr>\n",
       "    <tr>\n",
       "      <th>3</th>\n",
       "      <td>40.30467</td>\n",
       "      <td>53.845657</td>\n",
       "      <td>0.0</td>\n",
       "      <td>401.0</td>\n",
       "      <td>15.0</td>\n",
       "      <td>15.52416</td>\n",
       "      <td>32.44188</td>\n",
       "      <td>0.0</td>\n",
       "      <td>377.0</td>\n",
       "      <td>3.0</td>\n",
       "      <td>...</td>\n",
       "      <td>1.0</td>\n",
       "      <td>0.0</td>\n",
       "      <td>0.0</td>\n",
       "      <td>0.0</td>\n",
       "      <td>0.0</td>\n",
       "      <td>0.0</td>\n",
       "      <td>0.0</td>\n",
       "      <td>0.0</td>\n",
       "      <td>1.0</td>\n",
       "      <td>Thu_P</td>\n",
       "    </tr>\n",
       "    <tr>\n",
       "      <th>4</th>\n",
       "      <td>40.30467</td>\n",
       "      <td>53.845657</td>\n",
       "      <td>0.0</td>\n",
       "      <td>401.0</td>\n",
       "      <td>15.0</td>\n",
       "      <td>15.52416</td>\n",
       "      <td>32.44188</td>\n",
       "      <td>0.0</td>\n",
       "      <td>377.0</td>\n",
       "      <td>3.0</td>\n",
       "      <td>...</td>\n",
       "      <td>1.0</td>\n",
       "      <td>0.0</td>\n",
       "      <td>0.0</td>\n",
       "      <td>0.0</td>\n",
       "      <td>0.0</td>\n",
       "      <td>0.0</td>\n",
       "      <td>0.0</td>\n",
       "      <td>0.0</td>\n",
       "      <td>27.0</td>\n",
       "      <td>Thu_P</td>\n",
       "    </tr>\n",
       "  </tbody>\n",
       "</table>\n",
       "<p>5 rows × 282 columns</p>\n",
       "</div>"
      ],
      "text/plain": [
       "    mean_51      sd_51  min_51  max_51  median_51   mean_52     sd_52  min_52  \\\n",
       "0  40.30467  53.845657     0.0   401.0       15.0  15.52416  32.44188     0.0   \n",
       "1  40.30467  53.845657     0.0   401.0       15.0  15.52416  32.44188     0.0   \n",
       "2  40.30467  53.845657     0.0   401.0       15.0  15.52416  32.44188     0.0   \n",
       "3  40.30467  53.845657     0.0   401.0       15.0  15.52416  32.44188     0.0   \n",
       "4  40.30467  53.845657     0.0   401.0       15.0  15.52416  32.44188     0.0   \n",
       "\n",
       "   max_52  median_52  ...  Thu_TP  Fri_TP  Sat_TP  Sun_TP  num_parent  \\\n",
       "0   377.0        3.0  ...     1.0     0.0     0.0     0.0         0.0   \n",
       "1   377.0        3.0  ...     0.0     0.0     0.0     0.0         0.0   \n",
       "2   377.0        3.0  ...     0.0     0.0     0.0     0.0         0.0   \n",
       "3   377.0        3.0  ...     1.0     0.0     0.0     0.0         0.0   \n",
       "4   377.0        3.0  ...     1.0     0.0     0.0     0.0         0.0   \n",
       "\n",
       "   min_num_comments_P  max_num_comments_P  mean_num_comments_P  \\\n",
       "0                 0.0                 0.0                  0.0   \n",
       "1                 0.0                 0.0                  0.0   \n",
       "2                 0.0                 0.0                  0.0   \n",
       "3                 0.0                 0.0                  0.0   \n",
       "4                 0.0                 0.0                  0.0   \n",
       "\n",
       "   num_comments_next_24_TB  dow_P  \n",
       "0                      1.0  Thu_P  \n",
       "1                      0.0  Wed_P  \n",
       "2                      0.0  Wed_P  \n",
       "3                      1.0  Thu_P  \n",
       "4                     27.0  Thu_P  \n",
       "\n",
       "[5 rows x 282 columns]"
      ]
     },
     "execution_count": 131,
     "metadata": {},
     "output_type": "execute_result"
    }
   ],
   "source": [
    "merged_df.head()"
   ]
  },
  {
   "cell_type": "markdown",
   "metadata": {},
   "source": [
    "### 3. Exploratory Data Analysis"
   ]
  },
  {
   "cell_type": "markdown",
   "metadata": {},
   "source": [
    "#### 3.0. Missing Data + Pre-processing\n",
    "- No missing data\n",
    "- Identified potential KPIs\n",
    "    - num_comments_51\n",
    "    - num_trackbacks_45\n",
    "    - num_comments_next_24_TB\n",
    "- Identified a field that could negatively impact analysis and modelling (num_parents)"
   ]
  },
  {
   "cell_type": "code",
   "execution_count": 206,
   "metadata": {},
   "outputs": [
    {
     "name": "stdout",
     "output_type": "stream",
     "text": [
      "Number of missing values: 0\n"
     ]
    },
    {
     "data": {
      "text/html": [
       "<div>\n",
       "<style scoped>\n",
       "    .dataframe tbody tr th:only-of-type {\n",
       "        vertical-align: middle;\n",
       "    }\n",
       "\n",
       "    .dataframe tbody tr th {\n",
       "        vertical-align: top;\n",
       "    }\n",
       "\n",
       "    .dataframe thead th {\n",
       "        text-align: right;\n",
       "    }\n",
       "</style>\n",
       "<table border=\"1\" class=\"dataframe\">\n",
       "  <thead>\n",
       "    <tr style=\"text-align: right;\">\n",
       "      <th></th>\n",
       "      <th>mean_51</th>\n",
       "      <th>sd_51</th>\n",
       "      <th>min_51</th>\n",
       "      <th>max_51</th>\n",
       "      <th>median_51</th>\n",
       "      <th>mean_52</th>\n",
       "      <th>sd_52</th>\n",
       "      <th>min_52</th>\n",
       "      <th>max_52</th>\n",
       "      <th>median_52</th>\n",
       "      <th>...</th>\n",
       "      <th>Thu_TP</th>\n",
       "      <th>Fri_TP</th>\n",
       "      <th>Sat_TP</th>\n",
       "      <th>Sun_TP</th>\n",
       "      <th>num_parent</th>\n",
       "      <th>min_num_comments_P</th>\n",
       "      <th>max_num_comments_P</th>\n",
       "      <th>mean_num_comments_P</th>\n",
       "      <th>num_comments_next_24_TB</th>\n",
       "      <th>dow_P</th>\n",
       "    </tr>\n",
       "  </thead>\n",
       "  <tbody>\n",
       "    <tr>\n",
       "      <th>0</th>\n",
       "      <td>40.30467</td>\n",
       "      <td>53.845657</td>\n",
       "      <td>0.0</td>\n",
       "      <td>401.0</td>\n",
       "      <td>15.0</td>\n",
       "      <td>15.52416</td>\n",
       "      <td>32.44188</td>\n",
       "      <td>0.0</td>\n",
       "      <td>377.0</td>\n",
       "      <td>3.0</td>\n",
       "      <td>...</td>\n",
       "      <td>1.0</td>\n",
       "      <td>0.0</td>\n",
       "      <td>0.0</td>\n",
       "      <td>0.0</td>\n",
       "      <td>0.0</td>\n",
       "      <td>0.0</td>\n",
       "      <td>0.0</td>\n",
       "      <td>0.0</td>\n",
       "      <td>1.0</td>\n",
       "      <td>Thu_P</td>\n",
       "    </tr>\n",
       "    <tr>\n",
       "      <th>1</th>\n",
       "      <td>40.30467</td>\n",
       "      <td>53.845657</td>\n",
       "      <td>0.0</td>\n",
       "      <td>401.0</td>\n",
       "      <td>15.0</td>\n",
       "      <td>15.52416</td>\n",
       "      <td>32.44188</td>\n",
       "      <td>0.0</td>\n",
       "      <td>377.0</td>\n",
       "      <td>3.0</td>\n",
       "      <td>...</td>\n",
       "      <td>0.0</td>\n",
       "      <td>0.0</td>\n",
       "      <td>0.0</td>\n",
       "      <td>0.0</td>\n",
       "      <td>0.0</td>\n",
       "      <td>0.0</td>\n",
       "      <td>0.0</td>\n",
       "      <td>0.0</td>\n",
       "      <td>0.0</td>\n",
       "      <td>Wed_P</td>\n",
       "    </tr>\n",
       "    <tr>\n",
       "      <th>2</th>\n",
       "      <td>40.30467</td>\n",
       "      <td>53.845657</td>\n",
       "      <td>0.0</td>\n",
       "      <td>401.0</td>\n",
       "      <td>15.0</td>\n",
       "      <td>15.52416</td>\n",
       "      <td>32.44188</td>\n",
       "      <td>0.0</td>\n",
       "      <td>377.0</td>\n",
       "      <td>3.0</td>\n",
       "      <td>...</td>\n",
       "      <td>0.0</td>\n",
       "      <td>0.0</td>\n",
       "      <td>0.0</td>\n",
       "      <td>0.0</td>\n",
       "      <td>0.0</td>\n",
       "      <td>0.0</td>\n",
       "      <td>0.0</td>\n",
       "      <td>0.0</td>\n",
       "      <td>0.0</td>\n",
       "      <td>Wed_P</td>\n",
       "    </tr>\n",
       "    <tr>\n",
       "      <th>3</th>\n",
       "      <td>40.30467</td>\n",
       "      <td>53.845657</td>\n",
       "      <td>0.0</td>\n",
       "      <td>401.0</td>\n",
       "      <td>15.0</td>\n",
       "      <td>15.52416</td>\n",
       "      <td>32.44188</td>\n",
       "      <td>0.0</td>\n",
       "      <td>377.0</td>\n",
       "      <td>3.0</td>\n",
       "      <td>...</td>\n",
       "      <td>1.0</td>\n",
       "      <td>0.0</td>\n",
       "      <td>0.0</td>\n",
       "      <td>0.0</td>\n",
       "      <td>0.0</td>\n",
       "      <td>0.0</td>\n",
       "      <td>0.0</td>\n",
       "      <td>0.0</td>\n",
       "      <td>1.0</td>\n",
       "      <td>Thu_P</td>\n",
       "    </tr>\n",
       "    <tr>\n",
       "      <th>4</th>\n",
       "      <td>40.30467</td>\n",
       "      <td>53.845657</td>\n",
       "      <td>0.0</td>\n",
       "      <td>401.0</td>\n",
       "      <td>15.0</td>\n",
       "      <td>15.52416</td>\n",
       "      <td>32.44188</td>\n",
       "      <td>0.0</td>\n",
       "      <td>377.0</td>\n",
       "      <td>3.0</td>\n",
       "      <td>...</td>\n",
       "      <td>1.0</td>\n",
       "      <td>0.0</td>\n",
       "      <td>0.0</td>\n",
       "      <td>0.0</td>\n",
       "      <td>0.0</td>\n",
       "      <td>0.0</td>\n",
       "      <td>0.0</td>\n",
       "      <td>0.0</td>\n",
       "      <td>27.0</td>\n",
       "      <td>Thu_P</td>\n",
       "    </tr>\n",
       "  </tbody>\n",
       "</table>\n",
       "<p>5 rows × 282 columns</p>\n",
       "</div>"
      ],
      "text/plain": [
       "    mean_51      sd_51  min_51  max_51  median_51   mean_52     sd_52  min_52  \\\n",
       "0  40.30467  53.845657     0.0   401.0       15.0  15.52416  32.44188     0.0   \n",
       "1  40.30467  53.845657     0.0   401.0       15.0  15.52416  32.44188     0.0   \n",
       "2  40.30467  53.845657     0.0   401.0       15.0  15.52416  32.44188     0.0   \n",
       "3  40.30467  53.845657     0.0   401.0       15.0  15.52416  32.44188     0.0   \n",
       "4  40.30467  53.845657     0.0   401.0       15.0  15.52416  32.44188     0.0   \n",
       "\n",
       "   max_52  median_52  ...  Thu_TP  Fri_TP  Sat_TP  Sun_TP  num_parent  \\\n",
       "0   377.0        3.0  ...     1.0     0.0     0.0     0.0         0.0   \n",
       "1   377.0        3.0  ...     0.0     0.0     0.0     0.0         0.0   \n",
       "2   377.0        3.0  ...     0.0     0.0     0.0     0.0         0.0   \n",
       "3   377.0        3.0  ...     1.0     0.0     0.0     0.0         0.0   \n",
       "4   377.0        3.0  ...     1.0     0.0     0.0     0.0         0.0   \n",
       "\n",
       "   min_num_comments_P  max_num_comments_P  mean_num_comments_P  \\\n",
       "0                 0.0                 0.0                  0.0   \n",
       "1                 0.0                 0.0                  0.0   \n",
       "2                 0.0                 0.0                  0.0   \n",
       "3                 0.0                 0.0                  0.0   \n",
       "4                 0.0                 0.0                  0.0   \n",
       "\n",
       "   num_comments_next_24_TB  dow_P  \n",
       "0                      1.0  Thu_P  \n",
       "1                      0.0  Wed_P  \n",
       "2                      0.0  Wed_P  \n",
       "3                      1.0  Thu_P  \n",
       "4                     27.0  Thu_P  \n",
       "\n",
       "[5 rows x 282 columns]"
      ]
     },
     "execution_count": 206,
     "metadata": {},
     "output_type": "execute_result"
    }
   ],
   "source": [
    "# Checking for any missing data.\n",
    "print(\"Number of missing values:\", merged_df.isnull().values.sum())\n",
    "merged_df.head()"
   ]
  },
  {
   "cell_type": "code",
   "execution_count": 207,
   "metadata": {},
   "outputs": [
    {
     "data": {
      "text/plain": [
       "(52397, 282)"
      ]
     },
     "execution_count": 207,
     "metadata": {},
     "output_type": "execute_result"
    }
   ],
   "source": [
    "merged_df.shape"
   ]
  },
  {
   "cell_type": "code",
   "execution_count": 208,
   "metadata": {},
   "outputs": [],
   "source": [
    "merged_df.drop_duplicates(inplace=True)"
   ]
  },
  {
   "cell_type": "code",
   "execution_count": 209,
   "metadata": {},
   "outputs": [
    {
     "data": {
      "text/plain": [
       "(49203, 282)"
      ]
     },
     "execution_count": 209,
     "metadata": {},
     "output_type": "execute_result"
    }
   ],
   "source": [
    "merged_df.shape"
   ]
  },
  {
   "cell_type": "markdown",
   "metadata": {},
   "source": [
    "#### 3.1. Number of Parent Pages (277)\n",
    "- 95% of the data of blogposts here don't have any parents, which means that they are mostly original posts. \n",
    "- 2% of the training data have between 2-10 parent blog posts. \n",
    "- There is a small number of outliers who have 20-140 parents. These should be excluded."
   ]
  },
  {
   "cell_type": "code",
   "execution_count": 210,
   "metadata": {},
   "outputs": [
    {
     "name": "stdout",
     "output_type": "stream",
     "text": [
      "> Statistical Summary of num_parent\n"
     ]
    },
    {
     "data": {
      "text/plain": [
       "count    49203.000000\n",
       "mean         0.126903\n",
       "std          1.483810\n",
       "min          0.000000\n",
       "25%          0.000000\n",
       "50%          0.000000\n",
       "75%          0.000000\n",
       "max        136.000000\n",
       "Name: num_parent, dtype: float64"
      ]
     },
     "metadata": {},
     "output_type": "display_data"
    },
    {
     "name": "stdout",
     "output_type": "stream",
     "text": [
      "> Graphical Distribution of num_parent\n"
     ]
    },
    {
     "data": {
      "image/png": "[encoded data removed]",
      "text/plain": [
       "<Figure size 640x480 with 1 Axes>"
      ]
     },
     "metadata": {},
     "output_type": "display_data"
    },
    {
     "name": "stdout",
     "output_type": "stream",
     "text": [
      "> Insight: We can see from the statistics summary + the distribution that most of the data is a parent blog in itself and there are not many trackback blogs\n"
     ]
    }
   ],
   "source": [
    "data = merged_df.num_parent\n",
    "\n",
    "print(\"> Statistical Summary of num_parent\")\n",
    "display(data.describe())\n",
    "\n",
    "print(\"> Graphical Distribution of num_parent\")\n",
    "plt.hist(data, bins = 50)\n",
    "plt.title(\"Distribution of Number of Parent Pages\")\n",
    "plt.xlabel(\"Number of Parent Pages\")\n",
    "plt.show()\n",
    "print(\"> Insight: We can see from the statistics summary + the distribution that most of the data is a parent blog in itself and there are not many trackback blogs\")"
   ]
  },
  {
   "cell_type": "code",
   "execution_count": 211,
   "metadata": {},
   "outputs": [
    {
     "name": "stdout",
     "output_type": "stream",
     "text": [
      "> Graphical Distribution of num_parent\n"
     ]
    },
    {
     "data": {
      "image/png": "[encoded data removed]",
      "text/plain": [
       "<Figure size 640x480 with 1 Axes>"
      ]
     },
     "metadata": {},
     "output_type": "display_data"
    },
    {
     "name": "stdout",
     "output_type": "stream",
     "text": [
      "> Insight: If we zoom in to the range 2~10 parent pages, we can see that it tapers off around 10\n"
     ]
    }
   ],
   "source": [
    "print(\"> Graphical Distribution of num_parent\")\n",
    "plt.hist(data, bins = 50, range = (2,10))\n",
    "plt.title(\"Distribution of Number of Parent Pages (zoomed in)\")\n",
    "plt.xlabel(\"Number of Parent Pages\")\n",
    "plt.show()\n",
    "print(\"> Insight: If we zoom in to the range 2~10 parent pages, we can see that it tapers off around 10\")"
   ]
  },
  {
   "cell_type": "code",
   "execution_count": 212,
   "metadata": {},
   "outputs": [
    {
     "name": "stdout",
     "output_type": "stream",
     "text": [
      "> Insight: Note that there are some outliers here that we might want to remove from the data... (i.e. let's remove data that has above 15 parent pages...)\n"
     ]
    },
    {
     "data": {
      "text/plain": [
       "13231    136.0\n",
       "13232    136.0\n",
       "13234    136.0\n",
       "13272    101.0\n",
       "13274    101.0\n",
       "13275    101.0\n",
       "13294     35.0\n",
       "13296     32.0\n",
       "13298     32.0\n",
       "28433     21.0\n",
       "28434     20.0\n",
       "28435     20.0\n",
       "Name: num_parent, dtype: float64"
      ]
     },
     "execution_count": 212,
     "metadata": {},
     "output_type": "execute_result"
    }
   ],
   "source": [
    "print(\"> Insight: Note that there are some outliers here that we might want to remove from the data... (i.e. let's remove data that has above 15 parent pages...)\") \n",
    "data[data > 15]"
   ]
  },
  {
   "cell_type": "code",
   "execution_count": 213,
   "metadata": {},
   "outputs": [
    {
     "name": "stdout",
     "output_type": "stream",
     "text": [
      "> Insight: The percentage of training data that is the source post\n",
      "94.38245635428734 \n",
      "\n",
      "> Insight: The percentage of training data that has between 2 and 10 parents\n",
      "2.2620571916346566\n"
     ]
    }
   ],
   "source": [
    "print(\"> Insight: The percentage of training data that is the source post\")\n",
    "print(100 * data[data == 0].shape[0] / data.shape[0], \"\\n\")\n",
    "\n",
    "print(\"> Insight: The percentage of training data that has between 2 and 10 parents\")\n",
    "print(100 * data[(data >= 2) & (data <= 10)].shape[0] / data.shape[0])"
   ]
  },
  {
   "cell_type": "markdown",
   "metadata": {},
   "source": [
    "#### 3.2. Number of Comments before BaseTime (51)\n",
    "- 75% of instances have less than 25 comments before basetime.\n",
    "- 89% of instances have less than 100 comments before basetime.\n",
    "- Therefore, let's define blog posts with number of comments in the top 10% as exceptionally performing blog posts. i.e. If a blog post has above 100 comments, then it is in the top 10% of blog posts.\n",
    "\n",
    "Extra\n",
    "- Note that if we want to use col_52/col_57, then we can only use this if col_61 >= 24 hrs (to ensure that we haev full range of comments/trackbacks)\n",
    "- Note that if we awnt to use col_53/col_58, then we can only use this if col_61 >= 48 hrs (to ensure that we have full range of comments/trackbacks)"
   ]
  },
  {
   "cell_type": "code",
   "execution_count": 214,
   "metadata": {},
   "outputs": [
    {
     "name": "stdout",
     "output_type": "stream",
     "text": [
      "> Statistical Summary of num_comments_51\n"
     ]
    },
    {
     "data": {
      "text/plain": [
       "count    49203.000000\n",
       "mean        38.097575\n",
       "std        111.246130\n",
       "min          0.000000\n",
       "25%          0.000000\n",
       "50%          3.000000\n",
       "75%         22.000000\n",
       "max       2044.000000\n",
       "Name: num_comments_51, dtype: float64"
      ]
     },
     "metadata": {},
     "output_type": "display_data"
    },
    {
     "name": "stdout",
     "output_type": "stream",
     "text": [
      "> Graphical Distribution of num_comments_51\n"
     ]
    },
    {
     "data": {
      "image/png": "[encoded data removed]",
      "text/plain": [
       "<Figure size 640x480 with 1 Axes>"
      ]
     },
     "metadata": {},
     "output_type": "display_data"
    },
    {
     "name": "stdout",
     "output_type": "stream",
     "text": [
      "> Insight: We can see from the statistics summary + the distribution that most of the data is a parent blog in itself and there are not many trackback blogs\n"
     ]
    }
   ],
   "source": [
    "data = merged_df.num_comments_51\n",
    "\n",
    "print(\"> Statistical Summary of num_comments_51\")\n",
    "display(data.describe())\n",
    "\n",
    "print(\"> Graphical Distribution of num_comments_51\")\n",
    "plt.hist(data, bins = 50, range = (0, 100))\n",
    "plt.title(\"Distribution of Total Number of Comments before BaseTime\")\n",
    "plt.xlabel(\"Number of Comments\")\n",
    "plt.show()\n",
    "print(\"> Insight: We can see from the statistics summary + the distribution that most of the data is a parent blog in itself and there are not many trackback blogs\")"
   ]
  },
  {
   "cell_type": "code",
   "execution_count": 215,
   "metadata": {},
   "outputs": [
    {
     "data": {
      "text/plain": [
       "9.960774749507143"
      ]
     },
     "execution_count": 215,
     "metadata": {},
     "output_type": "execute_result"
    }
   ],
   "source": [
    "100 * data[data <= 50].shape[0] / data.shape[0]\n",
    "\n",
    "100 * data[data > 100].shape[0] / data.shape[0]"
   ]
  },
  {
   "cell_type": "markdown",
   "metadata": {},
   "source": [
    "#### 3.3. Number of Trackbacks before BaseTime (56)\n",
    "- 81% of the data does not have a trackback. Maybe we should not use this feature\n",
    "- So, only 19% of the data has at least 1 trackback. Would be interesting to see the correlation between trackback and final number of comments\n",
    "- But I think trackbacks should not be used as an engagement KPI. It should instead just be used as a feature to determine customer engagement."
   ]
  },
  {
   "cell_type": "code",
   "execution_count": 216,
   "metadata": {},
   "outputs": [
    {
     "name": "stdout",
     "output_type": "stream",
     "text": [
      "> Statistical Summary of num_trackbacks_56\n"
     ]
    },
    {
     "data": {
      "text/plain": [
       "count    49203.000000\n",
       "mean         0.510762\n",
       "std          1.587694\n",
       "min          0.000000\n",
       "25%          0.000000\n",
       "50%          0.000000\n",
       "75%          0.000000\n",
       "max         30.000000\n",
       "Name: num_trackbacks_56, dtype: float64"
      ]
     },
     "metadata": {},
     "output_type": "display_data"
    },
    {
     "name": "stdout",
     "output_type": "stream",
     "text": [
      "> Graphical Distribution of num_trackbacks_56\n"
     ]
    },
    {
     "data": {
      "image/png": "[encoded data removed]",
      "text/plain": [
       "<Figure size 640x480 with 1 Axes>"
      ]
     },
     "metadata": {},
     "output_type": "display_data"
    },
    {
     "name": "stdout",
     "output_type": "stream",
     "text": [
      "> Insight: Trackbacks might not be usable for this data\n"
     ]
    }
   ],
   "source": [
    "data = merged_df.num_trackbacks_56\n",
    "\n",
    "print(\"> Statistical Summary of num_trackbacks_56\")\n",
    "display(data.describe())\n",
    "\n",
    "print(\"> Graphical Distribution of num_trackbacks_56\")\n",
    "plt.hist(data, bins = 100, range = (0, 20))\n",
    "plt.title(\"Distribution of Total Number of Trackbacks before BaseTime\")\n",
    "plt.xlabel(\"Number of Trackbacks\")\n",
    "plt.show()\n",
    "print(\"> Insight: Trackbacks might not be usable for this data\")"
   ]
  },
  {
   "cell_type": "code",
   "execution_count": 217,
   "metadata": {},
   "outputs": [
    {
     "name": "stdout",
     "output_type": "stream",
     "text": [
      "81.26333760136578\n",
      "18.73666239863423\n"
     ]
    }
   ],
   "source": [
    "print(100*data[data == 0].shape[0]/data.shape[0])\n",
    "print(100*data[data > 0].shape[0]/data.shape[0])"
   ]
  },
  {
   "cell_type": "markdown",
   "metadata": {},
   "source": [
    "#### 3.4. Number of Comments after 24 hours (281)\n",
    "- You only need 9 comments and above in the following 24 hours to put you in the top 10% by this metric.\n",
    "- 64% of the data have 0 new comments 24 hours BaseTime. Could this be due to the time horizon between publish and Basetime being too small or too large? i.e. did we miss the peak of comments because we were too early or or too late... "
   ]
  },
  {
   "cell_type": "code",
   "execution_count": 218,
   "metadata": {},
   "outputs": [
    {
     "name": "stdout",
     "output_type": "stream",
     "text": [
      "> Statistical Summary of num_comments_next_24_TB\n"
     ]
    },
    {
     "data": {
      "text/plain": [
       "count    49203.000000\n",
       "mean         6.714875\n",
       "std         38.497199\n",
       "min          0.000000\n",
       "25%          0.000000\n",
       "50%          0.000000\n",
       "75%          1.000000\n",
       "max       1424.000000\n",
       "Name: num_comments_next_24_TB, dtype: float64"
      ]
     },
     "metadata": {},
     "output_type": "display_data"
    },
    {
     "name": "stdout",
     "output_type": "stream",
     "text": [
      "> Graphical Distribution of num_comments_next_24_TB\n"
     ]
    },
    {
     "data": {
      "image/png": "[encoded data removed]",
      "text/plain": [
       "<Figure size 640x480 with 1 Axes>"
      ]
     },
     "metadata": {},
     "output_type": "display_data"
    },
    {
     "name": "stdout",
     "output_type": "stream",
     "text": [
      "> Insight: The target is actually highly imbalanced. Most \n"
     ]
    }
   ],
   "source": [
    "data = merged_df.num_comments_next_24_TB\n",
    "\n",
    "print(\"> Statistical Summary of num_comments_next_24_TB\")\n",
    "display(data.describe())\n",
    "\n",
    "print(\"> Graphical Distribution of num_comments_next_24_TB\")\n",
    "plt.hist(data, range = (0,2))\n",
    "plt.title(\"Distribution of Number of Comments 24 hours after BaseTime\")\n",
    "plt.xlabel(\"Number of Comments 24 hours after BaseTime\")\n",
    "plt.show()\n",
    "print(\"> Insight: The target is actually highly imbalanced. Most \")"
   ]
  },
  {
   "cell_type": "code",
   "execution_count": 219,
   "metadata": {},
   "outputs": [
    {
     "name": "stdout",
     "output_type": "stream",
     "text": [
      "64.80905635835214\n",
      "11.029815255167367\n",
      "5.339105339105339\n",
      "3.079080543869276\n",
      "2.107595065341544\n"
     ]
    }
   ],
   "source": [
    "print(data[data == 0].shape[0] * 100 / data.shape[0])\n",
    "print(data[data == 1].shape[0] * 100 / data.shape[0])\n",
    "print(data[data == 2].shape[0] * 100 / data.shape[0])\n",
    "print(data[data == 3].shape[0] * 100 / data.shape[0])\n",
    "print(data[data == 4].shape[0] * 100 / data.shape[0])"
   ]
  },
  {
   "cell_type": "code",
   "execution_count": 220,
   "metadata": {},
   "outputs": [
    {
     "name": "stdout",
     "output_type": "stream",
     "text": [
      "90.74853159360201\n"
     ]
    }
   ],
   "source": [
    "print(data[data <= 8].shape[0] * 100 / data.shape[0])"
   ]
  },
  {
   "cell_type": "markdown",
   "metadata": {},
   "source": [
    "#### 3.5. Length of Time between Publish and Basetime (61)\n",
    "- NB: (could be used as a filter to predict at publish time or predict at 3 days after...)\n",
    "- Data is distributed in such a way that there are 3 peaks of data: 14 hrs, 38 hrs, 62 hrs (this helps us identify at which points we have the most data and at which points we don't)"
   ]
  },
  {
   "cell_type": "code",
   "execution_count": 221,
   "metadata": {},
   "outputs": [
    {
     "name": "stdout",
     "output_type": "stream",
     "text": [
      "> Statistical Summary of time_TBTP\n"
     ]
    },
    {
     "data": {
      "text/plain": [
       "count    49203.000000\n",
       "mean        34.788875\n",
       "std         20.662955\n",
       "min          0.000000\n",
       "25%         14.000000\n",
       "50%         35.000000\n",
       "75%         55.000000\n",
       "max         72.000000\n",
       "Name: time_TBTP, dtype: float64"
      ]
     },
     "metadata": {},
     "output_type": "display_data"
    },
    {
     "name": "stdout",
     "output_type": "stream",
     "text": [
      "> Graphical Distribution of number of hours between PublishTime and BaseTime\n"
     ]
    },
    {
     "data": {
      "image/png": "[encoded data removed]",
      "text/plain": [
       "<Figure size 640x480 with 1 Axes>"
      ]
     },
     "metadata": {},
     "output_type": "display_data"
    },
    {
     "name": "stdout",
     "output_type": "stream",
     "text": [
      "> Insight: Data is distributed at 3 peaks between 10-20, 30-40, and 60-70 hours\n"
     ]
    }
   ],
   "source": [
    "data = merged_df.time_TBTP\n",
    "\n",
    "print(\"> Statistical Summary of time_TBTP\")\n",
    "display(data.describe())\n",
    "\n",
    "print(\"> Graphical Distribution of number of hours between PublishTime and BaseTime\")\n",
    "plt.hist(data, bins = 100)\n",
    "plt.title(\"Distribution of Number of Hours between PublishTime and BaseTime\")\n",
    "plt.xlabel(\"Length of Post\")\n",
    "plt.show()\n",
    "print(\"> Insight: Data is distributed at 3 peaks between 10-20, 30-40, and 60-70 hours\")"
   ]
  },
  {
   "cell_type": "code",
   "execution_count": 222,
   "metadata": {},
   "outputs": [
    {
     "name": "stdout",
     "output_type": "stream",
     "text": [
      "> Graphical Distribution of number of hours between PublishTime and BaseTime\n"
     ]
    },
    {
     "data": {
      "image/png": "[encoded data removed]",
      "text/plain": [
       "<Figure size 640x480 with 1 Axes>"
      ]
     },
     "metadata": {},
     "output_type": "display_data"
    }
   ],
   "source": [
    "print(\"> Graphical Distribution of number of hours between PublishTime and BaseTime\")\n",
    "plt.hist(data, bins = 50, range = (10,20))\n",
    "plt.title(\"Distribution of Number of Hours between PublishTime and BaseTime (zoomed in)\")\n",
    "plt.xlabel(\"Length of Post\")\n",
    "plt.show()"
   ]
  },
  {
   "cell_type": "code",
   "execution_count": 223,
   "metadata": {},
   "outputs": [
    {
     "name": "stdout",
     "output_type": "stream",
     "text": [
      "> Graphical Distribution of number of hours between PublishTime and BaseTime\n"
     ]
    },
    {
     "data": {
      "image/png": "[encoded data removed]",
      "text/plain": [
       "<Figure size 640x480 with 1 Axes>"
      ]
     },
     "metadata": {},
     "output_type": "display_data"
    }
   ],
   "source": [
    "print(\"> Graphical Distribution of number of hours between PublishTime and BaseTime\")\n",
    "plt.hist(data, bins = 50, range = (30,40))\n",
    "plt.title(\"Distribution of Number of Hours between PublishTime and BaseTime (zoomed in)\")\n",
    "plt.xlabel(\"Length of Post\")\n",
    "plt.show()"
   ]
  },
  {
   "cell_type": "code",
   "execution_count": 224,
   "metadata": {},
   "outputs": [
    {
     "name": "stdout",
     "output_type": "stream",
     "text": [
      "> Graphical Distribution of number of hours between PublishTime and BaseTime\n"
     ]
    },
    {
     "data": {
      "image/png": "[encoded data removed]",
      "text/plain": [
       "<Figure size 640x480 with 1 Axes>"
      ]
     },
     "metadata": {},
     "output_type": "display_data"
    }
   ],
   "source": [
    "print(\"> Graphical Distribution of number of hours between PublishTime and BaseTime\")\n",
    "plt.hist(data, bins = 50, range = (60,70))\n",
    "plt.title(\"Distribution of Number of Hours between PublishTime and BaseTime (zoomed in)\")\n",
    "plt.xlabel(\"Length of Post\")\n",
    "plt.show()"
   ]
  },
  {
   "cell_type": "markdown",
   "metadata": {},
   "source": [
    "#### 3.6. Length of Post (62)\n",
    "- Median length of post is 1,859\n",
    "- 96% of training data has a length of post under 10,000\n",
    "- However, there are 24% of data that has a length of post of 0 which seems a bit strange and could be potential outliers for us... Or could these be posts without any captions and only images? If we assume that these posts only have images, then we can include this data into our analysis as we would be interested to see how having purely images would result in engagment or if words are absolutely necessary..."
   ]
  },
  {
   "cell_type": "code",
   "execution_count": 225,
   "metadata": {},
   "outputs": [
    {
     "name": "stdout",
     "output_type": "stream",
     "text": [
      "> Statistical Summary of length_post\n"
     ]
    },
    {
     "data": {
      "text/plain": [
       "count    49203.000000\n",
       "mean      2900.308152\n",
       "std       3798.867310\n",
       "min          0.000000\n",
       "25%        229.000000\n",
       "50%       1928.000000\n",
       "75%       4021.000000\n",
       "max      57894.000000\n",
       "Name: length_post, dtype: float64"
      ]
     },
     "metadata": {},
     "output_type": "display_data"
    },
    {
     "name": "stdout",
     "output_type": "stream",
     "text": [
      "> Graphical Distribution of length_post\n"
     ]
    },
    {
     "data": {
      "image/png": "[encoded data removed]",
      "text/plain": [
       "<Figure size 640x480 with 1 Axes>"
      ]
     },
     "metadata": {},
     "output_type": "display_data"
    },
    {
     "name": "stdout",
     "output_type": "stream",
     "text": [
      "> Insight: Seems to be a significant spike around length of 0 which is strange\n"
     ]
    }
   ],
   "source": [
    "data = merged_df.length_post\n",
    "\n",
    "print(\"> Statistical Summary of length_post\")\n",
    "display(data.describe())\n",
    "\n",
    "print(\"> Graphical Distribution of length_post\")\n",
    "plt.hist(data, bins = 100)\n",
    "plt.title(\"Distribution of Length of Post\")\n",
    "plt.xlabel(\"Length of Post\")\n",
    "plt.show()\n",
    "print(\"> Insight: Seems to be a significant spike around length of 0 which is strange\")"
   ]
  },
  {
   "cell_type": "code",
   "execution_count": 226,
   "metadata": {},
   "outputs": [
    {
     "name": "stdout",
     "output_type": "stream",
     "text": [
      "> Insight: The percentage of training data that has a length of post of 0\n",
      "22.563664817185945 \n",
      "\n",
      "> Insight: The percentage of training data that has a length of post below 1000\n",
      "50.95624250553828 \n",
      "\n",
      "> Insight: The percentage of training data that has a length of post below 10000\n",
      "95.84374936487613\n"
     ]
    }
   ],
   "source": [
    "print(\"> Insight: The percentage of training data that has a length of post of 0\")\n",
    "print(100 * data[data == 0].shape[0] / data.shape[0], \"\\n\")\n",
    "\n",
    "print(\"> Insight: The percentage of training data that has a length of post below 1000\")\n",
    "print(100 * data[(data <= 2000)].shape[0] / data.shape[0], \"\\n\")\n",
    "\n",
    "print(\"> Insight: The percentage of training data that has a length of post below 10000\")\n",
    "print(100 * data[(data <= 10000)].shape[0] / data.shape[0])"
   ]
  },
  {
   "cell_type": "code",
   "execution_count": 227,
   "metadata": {},
   "outputs": [
    {
     "name": "stdout",
     "output_type": "stream",
     "text": [
      "> Statistical Summary of length_post\n"
     ]
    },
    {
     "data": {
      "text/plain": [
       "count    49203.000000\n",
       "mean      2900.308152\n",
       "std       3798.867310\n",
       "min          0.000000\n",
       "25%        229.000000\n",
       "50%       1928.000000\n",
       "75%       4021.000000\n",
       "max      57894.000000\n",
       "Name: length_post, dtype: float64"
      ]
     },
     "metadata": {},
     "output_type": "display_data"
    },
    {
     "name": "stdout",
     "output_type": "stream",
     "text": [
      "> Graphical Distribution of length_post\n"
     ]
    },
    {
     "data": {
      "image/png": "[encoded data removed]",
      "text/plain": [
       "<Figure size 640x480 with 1 Axes>"
      ]
     },
     "metadata": {},
     "output_type": "display_data"
    },
    {
     "name": "stdout",
     "output_type": "stream",
     "text": [
      "> Insight: Seems to be a significant spike around length of 0 which is strange\n"
     ]
    }
   ],
   "source": [
    "data = merged_df.length_post\n",
    "\n",
    "print(\"> Statistical Summary of length_post\")\n",
    "display(data.describe())\n",
    "\n",
    "print(\"> Graphical Distribution of length_post\")\n",
    "plt.hist(data, bins = 100)\n",
    "plt.title(\"Distribution of Length of Post\")\n",
    "plt.xlabel(\"Length of Post\")\n",
    "plt.show()\n",
    "print(\"> Insight: Seems to be a significant spike around length of 0 which is strange\")"
   ]
  },
  {
   "cell_type": "code",
   "execution_count": 228,
   "metadata": {},
   "outputs": [
    {
     "name": "stdout",
     "output_type": "stream",
     "text": [
      "> Insight: The percentage of training data that has a length of post of 0\n",
      "22.563664817185945 \n",
      "\n",
      "> Insight: The percentage of training data that has a length of post below 1000\n",
      "36.67865780541837 \n",
      "\n",
      "> Insight: The percentage of training data that has a length of post below 10000\n",
      "95.84374936487613\n"
     ]
    }
   ],
   "source": [
    "print(\"> Insight: The percentage of training data that has a length of post of 0\")\n",
    "print(100 * data[data == 0].shape[0] / data.shape[0], \"\\n\")\n",
    "\n",
    "print(\"> Insight: The percentage of training data that has a length of post below 1000\")\n",
    "print(100 * data[(data <= 1000)].shape[0] / data.shape[0], \"\\n\")\n",
    "\n",
    "print(\"> Insight: The percentage of training data that has a length of post below 10000\")\n",
    "print(100 * data[(data <= 10000)].shape[0] / data.shape[0])"
   ]
  },
  {
   "cell_type": "markdown",
   "metadata": {},
   "source": [
    "#### 3.7. Day of Week of Publish\n",
    "- Days of Week publish seems to have a decent distribution"
   ]
  },
  {
   "cell_type": "code",
   "execution_count": 229,
   "metadata": {},
   "outputs": [
    {
     "name": "stdout",
     "output_type": "stream",
     "text": [
      "> Graphical Distribution of publish day of week\n"
     ]
    },
    {
     "data": {
      "image/png": "[encoded data removed]",
      "text/plain": [
       "<Figure size 640x480 with 1 Axes>"
      ]
     },
     "metadata": {},
     "output_type": "display_data"
    }
   ],
   "source": [
    "data = merged_df['dow_P']\n",
    "\n",
    "print(\"> Graphical Distribution of publish day of week\")\n",
    "plt.hist(data, bins = 20)\n",
    "plt.title(\"Distribution of publish day of week\")\n",
    "plt.xlabel(\"Publish day of week\")\n",
    "plt.show()"
   ]
  },
  {
   "cell_type": "code",
   "execution_count": 230,
   "metadata": {},
   "outputs": [
    {
     "data": {
      "text/html": [
       "<div>\n",
       "<style scoped>\n",
       "    .dataframe tbody tr th:only-of-type {\n",
       "        vertical-align: middle;\n",
       "    }\n",
       "\n",
       "    .dataframe tbody tr th {\n",
       "        vertical-align: top;\n",
       "    }\n",
       "\n",
       "    .dataframe thead th {\n",
       "        text-align: right;\n",
       "    }\n",
       "</style>\n",
       "<table border=\"1\" class=\"dataframe\">\n",
       "  <thead>\n",
       "    <tr style=\"text-align: right;\">\n",
       "      <th></th>\n",
       "      <th>count</th>\n",
       "    </tr>\n",
       "    <tr>\n",
       "      <th>dow_P</th>\n",
       "      <th></th>\n",
       "    </tr>\n",
       "  </thead>\n",
       "  <tbody>\n",
       "    <tr>\n",
       "      <th>Wed_P</th>\n",
       "      <td>16.988801</td>\n",
       "    </tr>\n",
       "    <tr>\n",
       "      <th>Tue_P</th>\n",
       "      <td>16.580290</td>\n",
       "    </tr>\n",
       "    <tr>\n",
       "      <th>Thu_P</th>\n",
       "      <td>16.244944</td>\n",
       "    </tr>\n",
       "    <tr>\n",
       "      <th>Mon_P</th>\n",
       "      <td>15.907567</td>\n",
       "    </tr>\n",
       "    <tr>\n",
       "      <th>Fri_P</th>\n",
       "      <td>15.503120</td>\n",
       "    </tr>\n",
       "    <tr>\n",
       "      <th>Sat_P</th>\n",
       "      <td>9.631527</td>\n",
       "    </tr>\n",
       "    <tr>\n",
       "      <th>Sun_P</th>\n",
       "      <td>9.143751</td>\n",
       "    </tr>\n",
       "  </tbody>\n",
       "</table>\n",
       "</div>"
      ],
      "text/plain": [
       "           count\n",
       "dow_P           \n",
       "Wed_P  16.988801\n",
       "Tue_P  16.580290\n",
       "Thu_P  16.244944\n",
       "Mon_P  15.907567\n",
       "Fri_P  15.503120\n",
       "Sat_P   9.631527\n",
       "Sun_P   9.143751"
      ]
     },
     "execution_count": 230,
     "metadata": {},
     "output_type": "execute_result"
    }
   ],
   "source": [
    "pd.DataFrame(data.value_counts())\n",
    "\n",
    "pd.DataFrame(data.value_counts() * 100/ data.shape[0])"
   ]
  },
  {
   "cell_type": "code",
   "execution_count": 231,
   "metadata": {},
   "outputs": [],
   "source": [
    "# Afterwards, I still need to determine the best target variables... Create a logic to logically test target at different points of time. \n",
    "# Need to figure out how to split the data here where time between lodgement and basetime is at milestone 1, milestone 2 and publish and mileston3...\n",
    "\n",
    "# Therefore I will have different temporal splits of data relative to basetime and I can use col52,53,54 as new targets? \n",
    "\n",
    "# And then check to see what are the relationships between the new targets and the other features using some data analysis and correlation plots etc...\n",
    "\n",
    "# and then once I have some findings I can refer back to the booklets I have on next steps and anything I have missed out\n",
    "\n",
    "# And then I can start summarizing my findings to be used in the ppt\n",
    "\n",
    "# And then I can begin the MODELLING and prediction + Tuning + INterpretation + get insights from this prototype too+ TEST RESULTS etc..."
   ]
  },
  {
   "cell_type": "markdown",
   "metadata": {},
   "source": [
    "#### 3.8. Removing Outliers\n",
    "Removed data where:\n",
    "- Number of Parent Pages > 0 (We are only interested in predicting how well a source post would be, not how well a trackback post will be)\n",
    "\n",
    "Filter data where:\n",
    "- Filter by length of post == 0 vs length of post > 0. We want to see if having no words generally has better engagement or not? \n",
    "\n",
    "Final_Data:\n",
    "- merged_df_pruned"
   ]
  },
  {
   "cell_type": "code",
   "execution_count": 232,
   "metadata": {},
   "outputs": [
    {
     "name": "stdout",
     "output_type": "stream",
     "text": [
      "Removed  2764 instances...\n"
     ]
    },
    {
     "data": {
      "text/plain": [
       "(46439, 282)"
      ]
     },
     "execution_count": 232,
     "metadata": {},
     "output_type": "execute_result"
    }
   ],
   "source": [
    "# Removing where number of parent pages > 0\n",
    "merged_df_pruned = merged_df[merged_df.num_parent == 0]\n",
    "print(\"Removed \", merged_df.shape[0] - merged_df_pruned.shape[0], \"instances...\")\n",
    "\n",
    "merged_df_pruned.shape"
   ]
  },
  {
   "cell_type": "markdown",
   "metadata": {},
   "source": [
    "#### 3.9. Defining New Targets\n",
    "- If a post has more than 100 comments between PublishTime and BaseTime, then we can consider it as a successful post (i.e. if col_51 > 100, then good engagement).\n",
    "- If a post gets more than 9 comments in the next 24 hours + 100 comments up until now, then very good engagement.\n",
    "\n",
    "- Use target 'high_engagement_v3' from df 'merged_df_pruned_with_target'"
   ]
  },
  {
   "cell_type": "code",
   "execution_count": 233,
   "metadata": {},
   "outputs": [
    {
     "name": "stdout",
     "output_type": "stream",
     "text": [
      "high_engagement\n",
      "0    44728\n",
      "1     1711\n",
      "Name: count, dtype: int64\n",
      "high_engagement_v2\n",
      "0    38990\n",
      "1     7449\n",
      "Name: count, dtype: int64\n",
      "high_engagement_v3\n",
      "0    40950\n",
      "1     5489\n",
      "Name: count, dtype: int64\n",
      "high_engagement_v4\n",
      "0    41618\n",
      "1     4821\n",
      "Name: count, dtype: int64\n"
     ]
    },
    {
     "name": "stderr",
     "output_type": "stream",
     "text": [
      "/var/folders/gd/lsdt5y754fl3r9jg4qztyy180000gn/T/ipykernel_40808/2826540347.py:9: SettingWithCopyWarning: \n",
      "A value is trying to be set on a copy of a slice from a DataFrame.\n",
      "Try using .loc[row_indexer,col_indexer] = value instead\n",
      "\n",
      "See the caveats in the documentation: https://pandas.pydata.org/pandas-docs/stable/user_guide/indexing.html#returning-a-view-versus-a-copy\n",
      "  df_target['high_engagement'] = np.where((df_target.num_comments_51 >= 100) & (df_target.num_comments_next_24_TB >= 9), 1, 0)\n",
      "/var/folders/gd/lsdt5y754fl3r9jg4qztyy180000gn/T/ipykernel_40808/2826540347.py:12: SettingWithCopyWarning: \n",
      "A value is trying to be set on a copy of a slice from a DataFrame.\n",
      "Try using .loc[row_indexer,col_indexer] = value instead\n",
      "\n",
      "See the caveats in the documentation: https://pandas.pydata.org/pandas-docs/stable/user_guide/indexing.html#returning-a-view-versus-a-copy\n",
      "  df_target['high_engagement_v2'] = np.where((df_target.num_comments_51 >= 100) | (df_target.num_comments_next_24_TB >= 9), 1, 0)\n",
      "/var/folders/gd/lsdt5y754fl3r9jg4qztyy180000gn/T/ipykernel_40808/2826540347.py:15: SettingWithCopyWarning: \n",
      "A value is trying to be set on a copy of a slice from a DataFrame.\n",
      "Try using .loc[row_indexer,col_indexer] = value instead\n",
      "\n",
      "See the caveats in the documentation: https://pandas.pydata.org/pandas-docs/stable/user_guide/indexing.html#returning-a-view-versus-a-copy\n",
      "  df_target['high_engagement_v3'] = np.where((df_target.num_comments_51) + (df_target.num_comments_next_24_TB) >= 100, 1, 0)\n",
      "/var/folders/gd/lsdt5y754fl3r9jg4qztyy180000gn/T/ipykernel_40808/2826540347.py:18: SettingWithCopyWarning: \n",
      "A value is trying to be set on a copy of a slice from a DataFrame.\n",
      "Try using .loc[row_indexer,col_indexer] = value instead\n",
      "\n",
      "See the caveats in the documentation: https://pandas.pydata.org/pandas-docs/stable/user_guide/indexing.html#returning-a-view-versus-a-copy\n",
      "  df_target['high_engagement_v4'] = np.where(df_target.num_comments_51 >= 100, 1, 0)\n"
     ]
    }
   ],
   "source": [
    "# Doing some analysis on our KPIs to see what is considered as a good number of comments/trackbacks...\n",
    "target_candidates = ['num_comments_51', 'num_comments_next_24_TB']\n",
    "df_target = merged_df_pruned[target_candidates]\n",
    "df_target.head()\n",
    "\n",
    "# then should I only be looking at those where the a parent post??? Maybe I should separate them. Do analysis for parent posts only + analysis for trackback posts\n",
    "\n",
    "# Where high number (above 100) of comments up until BaseTime AND number of new comments in next 24 hours is more than 9\n",
    "df_target['high_engagement'] = np.where((df_target.num_comments_51 >= 100) & (df_target.num_comments_next_24_TB >= 9), 1, 0)\n",
    "\n",
    "# Where high number (above 100) of comments up until BaseTime OR number of new comments in next 24 hours is more than 9\n",
    "df_target['high_engagement_v2'] = np.where((df_target.num_comments_51 >= 100) | (df_target.num_comments_next_24_TB >= 9), 1, 0)\n",
    "\n",
    "# Where number of comments up until BaseTime + number of new comments in next 24 hours is high (above 100)\n",
    "df_target['high_engagement_v3'] = np.where((df_target.num_comments_51) + (df_target.num_comments_next_24_TB) >= 100, 1, 0)\n",
    "\n",
    "# Where number of comments up until BaseTime + number of new comments in next 24 hours is high (above 100)\n",
    "df_target['high_engagement_v4'] = np.where(df_target.num_comments_51 >= 100, 1, 0)\n",
    "\n",
    "print(df_target.high_engagement.value_counts())\n",
    "print(df_target.high_engagement_v2.value_counts())\n",
    "print(df_target.high_engagement_v3.value_counts())\n",
    "print(df_target.high_engagement_v4.value_counts())\n",
    "\n",
    "merged_df_pruned_with_target = merged_df_pruned.merge(df_target.high_engagement_v3, left_index = True, right_index = True)"
   ]
  },
  {
   "cell_type": "markdown",
   "metadata": {},
   "source": [
    "### 4. Hypotheses"
   ]
  },
  {
   "cell_type": "markdown",
   "metadata": {},
   "source": [
    "#### H1 - What is the optimal length of a post?\n",
    "- Optimal length of post is to have around 4k-5k words in the post. This will improve likelihood of high engagement by 24%"
   ]
  },
  {
   "cell_type": "code",
   "execution_count": 234,
   "metadata": {},
   "outputs": [],
   "source": [
    "# Binning the continuous data \n",
    "def get_length_bucket(length_post):\n",
    "    if length_post == 0:\n",
    "        return '0'\n",
    "    elif length_post <= 1000:\n",
    "        return '0-1k'\n",
    "    elif length_post <= 2000:\n",
    "        return '1k-2k'\n",
    "    elif length_post <= 3000:\n",
    "        return '2k-3k'\n",
    "    elif length_post <= 4000:\n",
    "        return '3k-4k'\n",
    "    elif length_post <= 5000:\n",
    "        return '4k-5k'\n",
    "    elif length_post <= 6000:\n",
    "        return '5k-6k'\n",
    "    elif length_post <= 7000:\n",
    "        return '6k-7k'\n",
    "    elif length_post <= 8000:\n",
    "        return '7k-8k'\n",
    "    elif length_post <= 9000:\n",
    "        return '8k-9k'\n",
    "    elif length_post <= 10000:\n",
    "        return '9k-10k'\n",
    "    elif length_post > 10000:\n",
    "        return '> 10k'\n",
    "    else:\n",
    "        return 'ERROR'\n",
    "\n",
    "merged_df_pruned_with_target['length_bucket'] = merged_df_pruned_with_target['length_post'].apply(get_length_bucket)\n"
   ]
  },
  {
   "cell_type": "code",
   "execution_count": 235,
   "metadata": {},
   "outputs": [
    {
     "data": {
      "text/plain": [
       "length_bucket\n",
       "0         10806\n",
       "0-1k       6786\n",
       "1k-2k      6750\n",
       "2k-3k      5764\n",
       "3k-4k      5072\n",
       "4k-5k      3523\n",
       "5k-6k      2240\n",
       "> 10k      1885\n",
       "6k-7k      1478\n",
       "7k-8k       958\n",
       "8k-9k       670\n",
       "9k-10k      507\n",
       "Name: count, dtype: int64"
      ]
     },
     "execution_count": 235,
     "metadata": {},
     "output_type": "execute_result"
    }
   ],
   "source": [
    "merged_df_pruned_with_target.length_bucket.value_counts()"
   ]
  },
  {
   "cell_type": "code",
   "execution_count": 236,
   "metadata": {},
   "outputs": [
    {
     "data": {
      "text/html": [
       "<div>\n",
       "<style scoped>\n",
       "    .dataframe tbody tr th:only-of-type {\n",
       "        vertical-align: middle;\n",
       "    }\n",
       "\n",
       "    .dataframe tbody tr th {\n",
       "        vertical-align: top;\n",
       "    }\n",
       "\n",
       "    .dataframe thead th {\n",
       "        text-align: right;\n",
       "    }\n",
       "</style>\n",
       "<table border=\"1\" class=\"dataframe\">\n",
       "  <thead>\n",
       "    <tr style=\"text-align: right;\">\n",
       "      <th></th>\n",
       "      <th>count</th>\n",
       "      <th>high_engagement</th>\n",
       "      <th>high_engagement_pct</th>\n",
       "    </tr>\n",
       "    <tr>\n",
       "      <th>length_bucket</th>\n",
       "      <th></th>\n",
       "      <th></th>\n",
       "      <th></th>\n",
       "    </tr>\n",
       "  </thead>\n",
       "  <tbody>\n",
       "    <tr>\n",
       "      <th>0</th>\n",
       "      <td>10806</td>\n",
       "      <td>827</td>\n",
       "      <td>7.653156</td>\n",
       "    </tr>\n",
       "    <tr>\n",
       "      <th>0-1k</th>\n",
       "      <td>6786</td>\n",
       "      <td>285</td>\n",
       "      <td>4.199823</td>\n",
       "    </tr>\n",
       "    <tr>\n",
       "      <th>1k-2k</th>\n",
       "      <td>6750</td>\n",
       "      <td>579</td>\n",
       "      <td>8.577778</td>\n",
       "    </tr>\n",
       "    <tr>\n",
       "      <th>2k-3k</th>\n",
       "      <td>5764</td>\n",
       "      <td>823</td>\n",
       "      <td>14.278279</td>\n",
       "    </tr>\n",
       "    <tr>\n",
       "      <th>3k-4k</th>\n",
       "      <td>5072</td>\n",
       "      <td>943</td>\n",
       "      <td>18.592271</td>\n",
       "    </tr>\n",
       "    <tr>\n",
       "      <th>4k-5k</th>\n",
       "      <td>3523</td>\n",
       "      <td>803</td>\n",
       "      <td>22.793074</td>\n",
       "    </tr>\n",
       "    <tr>\n",
       "      <th>5k-6k</th>\n",
       "      <td>2240</td>\n",
       "      <td>436</td>\n",
       "      <td>19.464286</td>\n",
       "    </tr>\n",
       "    <tr>\n",
       "      <th>&gt; 10k</th>\n",
       "      <td>1885</td>\n",
       "      <td>208</td>\n",
       "      <td>11.034483</td>\n",
       "    </tr>\n",
       "    <tr>\n",
       "      <th>6k-7k</th>\n",
       "      <td>1478</td>\n",
       "      <td>310</td>\n",
       "      <td>20.974290</td>\n",
       "    </tr>\n",
       "    <tr>\n",
       "      <th>7k-8k</th>\n",
       "      <td>958</td>\n",
       "      <td>123</td>\n",
       "      <td>12.839248</td>\n",
       "    </tr>\n",
       "    <tr>\n",
       "      <th>8k-9k</th>\n",
       "      <td>670</td>\n",
       "      <td>92</td>\n",
       "      <td>13.731343</td>\n",
       "    </tr>\n",
       "    <tr>\n",
       "      <th>9k-10k</th>\n",
       "      <td>507</td>\n",
       "      <td>60</td>\n",
       "      <td>11.834320</td>\n",
       "    </tr>\n",
       "  </tbody>\n",
       "</table>\n",
       "</div>"
      ],
      "text/plain": [
       "               count  high_engagement  high_engagement_pct\n",
       "length_bucket                                             \n",
       "0              10806              827             7.653156\n",
       "0-1k            6786              285             4.199823\n",
       "1k-2k           6750              579             8.577778\n",
       "2k-3k           5764              823            14.278279\n",
       "3k-4k           5072              943            18.592271\n",
       "4k-5k           3523              803            22.793074\n",
       "5k-6k           2240              436            19.464286\n",
       "> 10k           1885              208            11.034483\n",
       "6k-7k           1478              310            20.974290\n",
       "7k-8k            958              123            12.839248\n",
       "8k-9k            670               92            13.731343\n",
       "9k-10k           507               60            11.834320"
      ]
     },
     "execution_count": 236,
     "metadata": {},
     "output_type": "execute_result"
    }
   ],
   "source": [
    "A = pd.DataFrame(merged_df_pruned_with_target.length_bucket.value_counts())\n",
    "B = pd.DataFrame(merged_df_pruned_with_target[merged_df_pruned_with_target.high_engagement_v3 == 1].length_bucket.value_counts()).rename(columns = {'count': 'high_engagement'})\n",
    "C = pd.DataFrame(merged_df_pruned_with_target[merged_df_pruned_with_target.high_engagement_v3 == 1].length_bucket.value_counts()*100 / merged_df_pruned_with_target.length_bucket.value_counts()).rename(columns = {'count': 'high_engagement_pct'})\n",
    "\n",
    "A.merge(B, left_index = True, right_index = True).merge(C, left_index = True, right_index = True)"
   ]
  },
  {
   "cell_type": "markdown",
   "metadata": {},
   "source": [
    "#### H2 - What are some key words in a successful post?\n",
    "- There are some words that were associated with high engagement posts. "
   ]
  },
  {
   "cell_type": "code",
   "execution_count": 237,
   "metadata": {},
   "outputs": [],
   "source": [
    "temp_bow_df = pd.merge(merged_df_pruned_with_target[df_bow_col_list], merged_df_pruned_with_target['high_engagement_v3'], left_index = True, right_index = True)\n",
    "\n",
    "data = temp_bow_df[df_bow_col_list]\n",
    "\n",
    "#new_column_names = [f'{i}' for i in range(0, 200, 1)]\n",
    "#data.columns = new_column_names\n",
    "\n",
    "#data.sum().plot(kind='bar')\n",
    "A = pd.DataFrame(data.sum()).rename(columns = {0 : 'Count'})\n",
    "B = pd.DataFrame(temp_bow_df[temp_bow_df.high_engagement_v3 == 1].sum()).rename(columns = {0 : 'High_Engagement_Count'})\n",
    "C = pd.DataFrame(temp_bow_df[temp_bow_df.high_engagement_v3 == 1].sum()*100/ data.sum()).rename(columns = {0 : 'High_Engagement_pct'})\n",
    "\n",
    "bow_results = A.merge(B, left_index = True, right_index = True).merge(C, left_index = True, right_index = True)"
   ]
  },
  {
   "cell_type": "code",
   "execution_count": 238,
   "metadata": {},
   "outputs": [
    {
     "data": {
      "text/plain": [
       "<Axes: >"
      ]
     },
     "execution_count": 238,
     "metadata": {},
     "output_type": "execute_result"
    },
    {
     "data": {
      "image/png": "[encoded data removed]",
      "text/plain": [
       "<Figure size 640x480 with 1 Axes>"
      ]
     },
     "metadata": {},
     "output_type": "display_data"
    }
   ],
   "source": [
    "bow_results.High_Engagement_pct.plot(kind='bar')"
   ]
  },
  {
   "cell_type": "code",
   "execution_count": 239,
   "metadata": {},
   "outputs": [
    {
     "data": {
      "text/html": [
       "<div>\n",
       "<style scoped>\n",
       "    .dataframe tbody tr th:only-of-type {\n",
       "        vertical-align: middle;\n",
       "    }\n",
       "\n",
       "    .dataframe tbody tr th {\n",
       "        vertical-align: top;\n",
       "    }\n",
       "\n",
       "    .dataframe thead th {\n",
       "        text-align: right;\n",
       "    }\n",
       "</style>\n",
       "<table border=\"1\" class=\"dataframe\">\n",
       "  <thead>\n",
       "    <tr style=\"text-align: right;\">\n",
       "      <th></th>\n",
       "      <th>Count</th>\n",
       "      <th>High_Engagement_Count</th>\n",
       "      <th>High_Engagement_pct</th>\n",
       "    </tr>\n",
       "  </thead>\n",
       "  <tbody>\n",
       "    <tr>\n",
       "      <th>bow_90</th>\n",
       "      <td>5.0</td>\n",
       "      <td>3.0</td>\n",
       "      <td>60.000000</td>\n",
       "    </tr>\n",
       "    <tr>\n",
       "      <th>bow_99</th>\n",
       "      <td>11.0</td>\n",
       "      <td>6.0</td>\n",
       "      <td>54.545455</td>\n",
       "    </tr>\n",
       "    <tr>\n",
       "      <th>bow_176</th>\n",
       "      <td>35.0</td>\n",
       "      <td>24.0</td>\n",
       "      <td>68.571429</td>\n",
       "    </tr>\n",
       "    <tr>\n",
       "      <th>bow_209</th>\n",
       "      <td>38.0</td>\n",
       "      <td>25.0</td>\n",
       "      <td>65.789474</td>\n",
       "    </tr>\n",
       "    <tr>\n",
       "      <th>bow_224</th>\n",
       "      <td>11.0</td>\n",
       "      <td>9.0</td>\n",
       "      <td>81.818182</td>\n",
       "    </tr>\n",
       "    <tr>\n",
       "      <th>bow_227</th>\n",
       "      <td>200.0</td>\n",
       "      <td>104.0</td>\n",
       "      <td>52.000000</td>\n",
       "    </tr>\n",
       "  </tbody>\n",
       "</table>\n",
       "</div>"
      ],
      "text/plain": [
       "         Count  High_Engagement_Count  High_Engagement_pct\n",
       "bow_90     5.0                    3.0            60.000000\n",
       "bow_99    11.0                    6.0            54.545455\n",
       "bow_176   35.0                   24.0            68.571429\n",
       "bow_209   38.0                   25.0            65.789474\n",
       "bow_224   11.0                    9.0            81.818182\n",
       "bow_227  200.0                  104.0            52.000000"
      ]
     },
     "execution_count": 239,
     "metadata": {},
     "output_type": "execute_result"
    }
   ],
   "source": [
    "bow_results[bow_results.High_Engagement_pct > 50]"
   ]
  },
  {
   "cell_type": "code",
   "execution_count": 240,
   "metadata": {},
   "outputs": [
    {
     "name": "stdout",
     "output_type": "stream",
     "text": [
      "         Count  High_Engagement_Count  High_Engagement_pct\n",
      "bow_224   11.0                    9.0            81.818182\n",
      "bow_176   35.0                   24.0            68.571429\n",
      "bow_209   38.0                   25.0            65.789474\n",
      "bow_90     5.0                    3.0            60.000000\n",
      "bow_99    11.0                    6.0            54.545455\n",
      "bow_227  200.0                  104.0            52.000000\n",
      "bow_100   32.0                   15.0            46.875000\n",
      "bow_117   80.0                   36.0            45.000000\n",
      "bow_85    14.0                    6.0            42.857143\n",
      "bow_113   14.0                    6.0            42.857143\n"
     ]
    }
   ],
   "source": [
    "top_10_sorted = bow_results.sort_values(by='High_Engagement_pct', ascending=False).head(10)\n",
    "\n",
    "print(top_10_sorted)"
   ]
  },
  {
   "cell_type": "code",
   "execution_count": 241,
   "metadata": {},
   "outputs": [
    {
     "data": {
      "text/plain": [
       "Index(['bow_224', 'bow_176', 'bow_209', 'bow_90', 'bow_99', 'bow_227',\n",
       "       'bow_100', 'bow_117', 'bow_85', 'bow_113'],\n",
       "      dtype='object')"
      ]
     },
     "execution_count": 241,
     "metadata": {},
     "output_type": "execute_result"
    }
   ],
   "source": [
    "top_10_sorted.index"
   ]
  },
  {
   "cell_type": "markdown",
   "metadata": {},
   "source": [
    "#### H3 - What is the optimal day of week to publish?\n",
    "- Highest engagement is actually on weekdays rather than weekends. However, the difference is not very large. \n",
    "- Specificaly, Tue, Wed, Thu were the top 3 days to post that will give the best likeihood of high engagement.\n",
    "- Potentially visualize the days of week and percentages of them that reach a high engagement.\n",
    "- Posting between Tues to Thurs will improve likelihood of higher engagement by 14% ~ 13%"
   ]
  },
  {
   "cell_type": "code",
   "execution_count": 242,
   "metadata": {},
   "outputs": [
    {
     "data": {
      "text/html": [
       "<div>\n",
       "<style scoped>\n",
       "    .dataframe tbody tr th:only-of-type {\n",
       "        vertical-align: middle;\n",
       "    }\n",
       "\n",
       "    .dataframe tbody tr th {\n",
       "        vertical-align: top;\n",
       "    }\n",
       "\n",
       "    .dataframe thead th {\n",
       "        text-align: right;\n",
       "    }\n",
       "</style>\n",
       "<table border=\"1\" class=\"dataframe\">\n",
       "  <thead>\n",
       "    <tr style=\"text-align: right;\">\n",
       "      <th></th>\n",
       "      <th>Number of Posts Published on Day</th>\n",
       "      <th>high_engagement</th>\n",
       "      <th>high_engagement_</th>\n",
       "    </tr>\n",
       "    <tr>\n",
       "      <th>dow_P</th>\n",
       "      <th></th>\n",
       "      <th></th>\n",
       "      <th></th>\n",
       "    </tr>\n",
       "  </thead>\n",
       "  <tbody>\n",
       "    <tr>\n",
       "      <th>Wed_P</th>\n",
       "      <td>7929</td>\n",
       "      <td>978</td>\n",
       "      <td>12.334468</td>\n",
       "    </tr>\n",
       "    <tr>\n",
       "      <th>Tue_P</th>\n",
       "      <td>7725</td>\n",
       "      <td>1036</td>\n",
       "      <td>13.411003</td>\n",
       "    </tr>\n",
       "    <tr>\n",
       "      <th>Thu_P</th>\n",
       "      <td>7552</td>\n",
       "      <td>918</td>\n",
       "      <td>12.155720</td>\n",
       "    </tr>\n",
       "    <tr>\n",
       "      <th>Mon_P</th>\n",
       "      <td>7390</td>\n",
       "      <td>901</td>\n",
       "      <td>12.192152</td>\n",
       "    </tr>\n",
       "    <tr>\n",
       "      <th>Fri_P</th>\n",
       "      <td>7161</td>\n",
       "      <td>838</td>\n",
       "      <td>11.702276</td>\n",
       "    </tr>\n",
       "    <tr>\n",
       "      <th>Sat_P</th>\n",
       "      <td>4427</td>\n",
       "      <td>450</td>\n",
       "      <td>10.164897</td>\n",
       "    </tr>\n",
       "    <tr>\n",
       "      <th>Sun_P</th>\n",
       "      <td>4255</td>\n",
       "      <td>368</td>\n",
       "      <td>8.648649</td>\n",
       "    </tr>\n",
       "  </tbody>\n",
       "</table>\n",
       "</div>"
      ],
      "text/plain": [
       "       Number of Posts Published on Day  high_engagement  high_engagement_\n",
       "dow_P                                                                     \n",
       "Wed_P                              7929              978         12.334468\n",
       "Tue_P                              7725             1036         13.411003\n",
       "Thu_P                              7552              918         12.155720\n",
       "Mon_P                              7390              901         12.192152\n",
       "Fri_P                              7161              838         11.702276\n",
       "Sat_P                              4427              450         10.164897\n",
       "Sun_P                              4255              368          8.648649"
      ]
     },
     "execution_count": 242,
     "metadata": {},
     "output_type": "execute_result"
    }
   ],
   "source": [
    "A = pd.DataFrame(merged_df_pruned_with_target.dow_P.value_counts()).rename(columns = {'count': 'Number of Posts Published on Day'})\n",
    "B = pd.DataFrame(merged_df_pruned_with_target[merged_df_pruned_with_target.high_engagement_v3 == 1].dow_P.value_counts()).rename(columns = {'count': 'high_engagement'})\n",
    "C = pd.DataFrame(merged_df_pruned_with_target[merged_df_pruned_with_target.high_engagement_v3 == 1].dow_P.value_counts()*100 / merged_df_pruned_with_target.dow_P.value_counts()).rename(columns = {'count': 'high_engagement_'})\n",
    "\n",
    "A.merge(B, left_index = True, right_index = True).merge(C, left_index = True, right_index = True)"
   ]
  },
  {
   "cell_type": "markdown",
   "metadata": {},
   "source": [
    "##### I want to look at a bit deeper dive here. So, let's see what days are the best to post in terms of new comments within\n",
    "1. 24 hours of posting\n",
    "- Filter data where TP-TB = 0, and use the provided number of comments 24 hours after TB (col281)\n",
    "- Filter data where TP-TB = 24, and use the provided number of comments betweeen T2 and TB (col52)\n",
    "- Filter data where TP-TB = 48, and use the provided number of comments between T1 and T2 (col53)\n",
    "- Filter data where TP-TB = 72, and use the provided number of comments between TP and T1 (col54)\n",
    "2. 48 hours of posting\n",
    "- Filter data where TP-TB = 24, and use col281 + col52 = total number of comments within 48 hours\n",
    "- Filter data where TP-TB = 48, and use col53 + col42 = total number of comments within 48 hours\n",
    "- Filter data where TP-TB = 72, and use col54 + col53 = total number of comments within 48 hours\n",
    "\n",
    "So, from this, I should get what days are bset to publish on based on the number of new comments within 24 hours and also within 48 hours"
   ]
  },
  {
   "cell_type": "markdown",
   "metadata": {},
   "source": [
    "### 5. Conclusion\n",
    "- Probability of a post receiving high engagement = 13%\n",
    "- Probability of a post pubished on a weekday receiving high engagement = 13%\n",
    "- Probability of a post with 4000-5000 words receiving high engagement = 24%\n",
    "- Probability of a post pubished with mention of any of the top 20 keywords receiving high engagement = 48%\n",
    "- Probability of a post with all of the above receiving high engagement = 67%"
   ]
  },
  {
   "cell_type": "code",
   "execution_count": 243,
   "metadata": {},
   "outputs": [
    {
     "data": {
      "text/plain": [
       "11.8198066280497"
      ]
     },
     "execution_count": 243,
     "metadata": {},
     "output_type": "execute_result"
    }
   ],
   "source": [
    "# Probability of a High Engagement Post\n",
    "100*merged_df_pruned_with_target[merged_df_pruned_with_target.high_engagement_v3 == 1].shape[0] / merged_df_pruned_with_target.shape[0]"
   ]
  },
  {
   "cell_type": "code",
   "execution_count": 244,
   "metadata": {},
   "outputs": [
    {
     "data": {
      "text/plain": [
       "12.37121593346929"
      ]
     },
     "execution_count": 244,
     "metadata": {},
     "output_type": "execute_result"
    }
   ],
   "source": [
    "# Probability of a High Engagement Post if you publish on weekdays\n",
    "100*merged_df_pruned_with_target[(merged_df_pruned_with_target.high_engagement_v3 == 1) \n",
    "                                 & (merged_df_pruned_with_target.dow_P.isin(['Mon_P', 'Tue_P', 'Wed_P', 'Thu_P', 'Fri_P']))\n",
    "                                 ].shape[0] / merged_df_pruned_with_target[merged_df_pruned_with_target.dow_P.isin(['Mon_P', 'Tue_P', 'Wed_P', 'Thu_P', 'Fri_P'])].shape[0]"
   ]
  },
  {
   "cell_type": "code",
   "execution_count": 245,
   "metadata": {},
   "outputs": [
    {
     "data": {
      "text/plain": [
       "22.793074084587"
      ]
     },
     "execution_count": 245,
     "metadata": {},
     "output_type": "execute_result"
    }
   ],
   "source": [
    "# Probability of a High Engagement Post if you publish with 4000-5000 words\n",
    "100*merged_df_pruned_with_target[(merged_df_pruned_with_target.high_engagement_v3 == 1) \n",
    "                                 & (merged_df_pruned_with_target.length_bucket == '4k-5k')\n",
    "                                 ].shape[0] / merged_df_pruned_with_target[(merged_df_pruned_with_target.length_bucket == '4k-5k')].shape[0]"
   ]
  },
  {
   "cell_type": "code",
   "execution_count": 246,
   "metadata": {},
   "outputs": [
    {
     "data": {
      "text/plain": [
       "Index(['bow_224', 'bow_176', 'bow_209', 'bow_90', 'bow_99', 'bow_227',\n",
       "       'bow_100', 'bow_117', 'bow_85', 'bow_113'],\n",
       "      dtype='object')"
      ]
     },
     "metadata": {},
     "output_type": "display_data"
    },
    {
     "data": {
      "text/plain": [
       "40.06024096385542"
      ]
     },
     "execution_count": 246,
     "metadata": {},
     "output_type": "execute_result"
    }
   ],
   "source": [
    "# Probability of a High Engagement Post if you publish with mention of the top 10 keywords\n",
    "\n",
    "display(top_10_sorted.index)\n",
    "\n",
    "100 * merged_df_pruned_with_target[(\n",
    "            (merged_df_pruned_with_target.bow_176 == 1) | \n",
    "            (merged_df_pruned_with_target.bow_224 == 1) | \n",
    "            (merged_df_pruned_with_target.bow_209 == 1) | \n",
    "            (merged_df_pruned_with_target.bow_99 == 1) | \n",
    "            (merged_df_pruned_with_target.bow_227 == 1) | \n",
    "            (merged_df_pruned_with_target.bow_100 == 1) | \n",
    "            (merged_df_pruned_with_target.bow_137 == 1) | \n",
    "            (merged_df_pruned_with_target.bow_92 == 1) | \n",
    "            (merged_df_pruned_with_target.bow_77 == 1) | \n",
    "            (merged_df_pruned_with_target.bow_117 == 1)\n",
    "        ) & (merged_df_pruned_with_target.high_engagement_v3 == 1)].shape[0] / merged_df_pruned_with_target[(\n",
    "    (merged_df_pruned_with_target.bow_176 == 1)| \n",
    "    (merged_df_pruned_with_target.bow_224 == 1)| \n",
    "    (merged_df_pruned_with_target.bow_209 == 1)| \n",
    "    (merged_df_pruned_with_target.bow_99 == 1)|  \n",
    "    (merged_df_pruned_with_target.bow_227 == 1)| \n",
    "    (merged_df_pruned_with_target.bow_100 == 1)| \n",
    "    (merged_df_pruned_with_target.bow_137 == 1)| \n",
    "    (merged_df_pruned_with_target.bow_92 == 1)| \n",
    "    (merged_df_pruned_with_target.bow_77 == 1)| \n",
    "    (merged_df_pruned_with_target.bow_117 == 1))].shape[0]"
   ]
  },
  {
   "cell_type": "code",
   "execution_count": 247,
   "metadata": {},
   "outputs": [
    {
     "data": {
      "text/plain": [
       "59.67741935483871"
      ]
     },
     "execution_count": 247,
     "metadata": {},
     "output_type": "execute_result"
    }
   ],
   "source": [
    "# Probability of a High Engagement Post if we use all of the above optimal\n",
    "all_filters = merged_df_pruned_with_target[\n",
    "    (merged_df_pruned_with_target.high_engagement_v3 == 1) \n",
    "    & (merged_df_pruned_with_target.dow_P.isin(['Mon_P', 'Tue_P', 'Wed_P', 'Thu_P', 'Fri_P']))\n",
    "    & (merged_df_pruned_with_target.length_bucket == '4k-5k')\n",
    "    & ((merged_df_pruned_with_target.bow_176 == 1)| \n",
    "        (merged_df_pruned_with_target.bow_224 == 1)| \n",
    "        (merged_df_pruned_with_target.bow_209 == 1)| \n",
    "        (merged_df_pruned_with_target.bow_99 == 1)|  \n",
    "        (merged_df_pruned_with_target.bow_227 == 1)| \n",
    "        (merged_df_pruned_with_target.bow_100 == 1)| \n",
    "        (merged_df_pruned_with_target.bow_137 == 1)| \n",
    "        (merged_df_pruned_with_target.bow_92 == 1)| \n",
    "        (merged_df_pruned_with_target.bow_77 == 1)| \n",
    "        (merged_df_pruned_with_target.bow_117 == 1))\n",
    "].shape[0]\n",
    "\n",
    "all_post = merged_df_pruned_with_target[\n",
    "    (merged_df_pruned_with_target.dow_P.isin(['Mon_P', 'Tue_P', 'Wed_P', 'Thu_P', 'Fri_P']))\n",
    "    & (merged_df_pruned_with_target.length_bucket == '4k-5k')\n",
    "    & ((merged_df_pruned_with_target.bow_176 == 1)| \n",
    "        (merged_df_pruned_with_target.bow_224 == 1)| \n",
    "        (merged_df_pruned_with_target.bow_209 == 1)| \n",
    "        (merged_df_pruned_with_target.bow_99 == 1)|  \n",
    "        (merged_df_pruned_with_target.bow_227 == 1)| \n",
    "        (merged_df_pruned_with_target.bow_100 == 1)| \n",
    "        (merged_df_pruned_with_target.bow_137 == 1)| \n",
    "        (merged_df_pruned_with_target.bow_92 == 1)| \n",
    "        (merged_df_pruned_with_target.bow_77 == 1)| \n",
    "        (merged_df_pruned_with_target.bow_117 == 1))\n",
    "].shape[0]\n",
    "\n",
    "100*all_filters/all_post"
   ]
  },
  {
   "cell_type": "code",
   "execution_count": 248,
   "metadata": {},
   "outputs": [
    {
     "data": {
      "text/plain": [
       "74"
      ]
     },
     "execution_count": 248,
     "metadata": {},
     "output_type": "execute_result"
    }
   ],
   "source": [
    "all_filters"
   ]
  },
  {
   "cell_type": "code",
   "execution_count": 249,
   "metadata": {},
   "outputs": [
    {
     "data": {
      "text/plain": [
       "124"
      ]
     },
     "execution_count": 249,
     "metadata": {},
     "output_type": "execute_result"
    }
   ],
   "source": [
    "all_post"
   ]
  },
  {
   "cell_type": "code",
   "execution_count": 250,
   "metadata": {},
   "outputs": [],
   "source": [
    "merged_df_pruned_with_target.to_csv(\"merged_df_pruned_with_target.csv\")"
   ]
  },
  {
   "cell_type": "code",
   "execution_count": null,
   "metadata": {},
   "outputs": [],
   "source": []
  }
 ],
 "metadata": {
  "kernelspec": {
   "display_name": "Python 3",
   "language": "python",
   "name": "python3"
  },
  "language_info": {
   "codemirror_mode": {
    "name": "ipython",
    "version": 3
   },
   "file_extension": ".py",
   "mimetype": "text/x-python",
   "name": "python",
   "nbconvert_exporter": "python",
   "pygments_lexer": "ipython3",
   "version": "3.11.5"
  },
  "orig_nbformat": 4
 },
 "nbformat": 4,
 "nbformat_minor": 2
}
